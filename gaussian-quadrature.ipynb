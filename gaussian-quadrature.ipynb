{
 "cells": [
  {
   "cell_type": "markdown",
   "metadata": {},
   "source": [
    "## Gaussian Quadrature\n",
    "\n",
    "#### Orthogonal polynomials\n",
    "\n",
    "Let ${p_m(x)}$ be a set of polynomials orthogonal over the interval $(a,b)$ with respect to the weight function $\\omega(x)>0$.  Orthogonality condition is given as\n",
    "\n",
    "$\n",
    "\\int_a^b p_m(x)p_n(x)\\omega(x)dx = \\delta_{mn}\n",
    "$\n",
    "\n",
    "Where $p_m(x)$ is an $m^{th}$ degree polynomial.\n",
    "\n",
    "#### Quadrature\n",
    "\n",
    "$\n",
    "\\int_a^b\\omega(x)f(x) \\approx \\sum_i^N w_i f(x_i)\n",
    "$\n",
    "\n",
    "Where $\\omega(x)$ is the weight function, $\\omega_i$ and $x_i$ are the weights and roots of the orthogonal polynomial. If $f(x)$ is a polynomial of degree $m$,  $m \\leq 2N-1$, result of the quadrature will be exact.\n",
    "\n",
    "#### Generalizations\n",
    "\n",
    "The most common orthogonal polynomials and their properties:\n",
    "\n",
    "|   Name    |      Interval      |      Weight Function       |\n",
    "| :-------: | :----------------: | :------------------------: |\n",
    "| Legendre  |      $[-1,1]$      |             1              |\n",
    "| Laguerre  |    $[0,\\infty)$    |     $x^\\alpha e^{-x}$      |\n",
    "|  Hermite  | $(-\\infty,\\infty)$ |         $e^{-x^2}$         |\n",
    "| Chebyshev |      $[-1,1]$      |      $(1-x^2)^{-0.5}$      |\n",
    "|  Jacobi   |      $[-1,1]$      | $(1-x)^\\alpha (1+x)^\\beta$ |\n",
    "\n",
    "### Python Pseudo code\n",
    "\n",
    "```python\n",
    "from numpy.polynomial.{name} import {name}gauss\n",
    "\n",
    "f = lambda x : y\n",
    "\n",
    "roots, weights = {name}gauss(N)\n",
    "\n",
    "result = sum(weights * f(roots))\n",
    "```"
   ]
  },
  {
   "cell_type": "code",
   "execution_count": null,
   "metadata": {},
   "outputs": [],
   "source": []
  }
 ],
 "metadata": {
  "kernelspec": {
   "display_name": "Python 3",
   "language": "python",
   "name": "python3"
  },
  "language_info": {
   "codemirror_mode": {
    "name": "ipython",
    "version": 3
   },
   "file_extension": ".py",
   "mimetype": "text/x-python",
   "name": "python",
   "nbconvert_exporter": "python",
   "pygments_lexer": "ipython3",
   "version": "3.8.5"
  }
 },
 "nbformat": 4,
 "nbformat_minor": 4
}
